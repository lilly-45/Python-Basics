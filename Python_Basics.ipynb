{
  "nbformat": 4,
  "nbformat_minor": 0,
  "metadata": {
    "colab": {
      "provenance": []
    },
    "kernelspec": {
      "name": "python3",
      "display_name": "Python 3"
    },
    "language_info": {
      "name": "python"
    }
  },
  "cells": [
    {
      "cell_type": "markdown",
      "source": [
        "# Python Basics"
      ],
      "metadata": {
        "id": "JCzfUvCfOKcw"
      }
    },
    {
      "cell_type": "markdown",
      "source": [
        "1. What is Python, and why is it popular ?\n",
        "\n",
        "   -> Python is a interpreted programming language that can be used to build from web applications and Data analysis tools to machine learning models and automation scripts.\n",
        "   Python is popular because it makes programming more accessible, allows rapid development, and is supported by a powerful ecosystem. Whether you're building a website or training a neural network, Python is often one of the first choices.\n",
        "\n",
        "2. What is an interpreter in Python ?\n",
        "\n",
        "   -> In Python, an interpreter is a program that reads and executes Python code line by line. Unlike compiled languages like C or Java, where the entire program is translated into machine code before it runs, Python code is interpreted at runtime.\n",
        "\n",
        "3. What are pre-defined keywords in Python ?\n",
        "\n",
        "   -> Pre-defined words are reserved words in python that have special    meaning to the python interpreter.It cannot be used as variable names,function names and identifiers.These keywords define the syntax and structure of Python programs.\n",
        "\n",
        "4. Can keywords be used as variable names ?\n",
        "\n",
        "   -> No\n",
        "\n",
        "5. What is mutability in Python ?\n",
        "   \n",
        "  -> Mutability in Python refers to whether an object's value can be changed after it has been created.\n",
        "\n",
        "6. Why are lists mutable, but tuples are immutable ?\n",
        "\n",
        "   -> List are designed for flexibility. It can be add,remove and modify the elements of the list. Tuples are used when you want to protect data from being changed, such as coordinates, database keys, or function returns. It is designed for fixed data.\n",
        "\n",
        "7. What is the difference between “==” and “is” operators in Python ?\n",
        "\n",
        "   -> '==' is Equality operator where it checks whether two variables have the same value.    Eg : a = [1, 2, 3]\n",
        "    b = [1, 2, 3]\n",
        "\n",
        " print(a == b)\n",
        "\n",
        "       'is' refers Identity operator where it checks whether two variables refer to the exact same object in memory.\n",
        "\n",
        "      Eg : a = [1, 2, 3]\n",
        "b = [1, 2, 3]\n",
        "  c = a\n",
        "   \n",
        "    print(a is c)   ( because a and b are same content with different object, and a and c are same object)\n",
        "\n",
        "\n",
        "8. What are logical operators in Python ?\n",
        "\n",
        "  -> Logical operators in Python are used to combine conditional statements (booleans) and control the flow of logic in programs. There are three main logical operators in Python.\n",
        "    \n",
        "    - Logical AND\n",
        "   \n",
        "     Returns True only if both operands are True. Eg :\n",
        "\n",
        "     x = 5\n",
        "\n",
        "    print(x > 2 and x < 10)  #  True\n",
        "\n",
        "    \n",
        "     print(x > 10 and x < 20) # False                                        \n",
        "\n",
        "    \n",
        "     - Logical OR\n",
        "     Returns True if at least one operand is True.  Eg :\n",
        "\n",
        "    x = 5\n",
        "     print(x > 2 or x > 10)  #  True\n",
        "    print(x < 1 or x > 10)  #  False\n",
        "\n",
        "\n",
        "  - Logical NOT\n",
        "  Inverts the result: True becomes False, and vice versa. Eg :\n",
        "\n",
        "    x = 5\n",
        "\n",
        "   print(not(x > 2))       # False\n",
        "\n",
        "   print(not(x < 2))       #  True\n",
        "\n",
        "\n",
        "\n",
        "9.  What is type casting in Python ?\n",
        "\n",
        "   -> Type casting in Python means converting one data type into another.\n",
        "      It is often used to ensure variables are in the correct type for operations like math, string manipulation, or input handling.\n",
        "\n",
        "\n",
        "10.  What is the difference between implicit and explicit type casting ?\n",
        "\n",
        "    -> Implicit Type Casting (Automatic)\n",
        "\n",
        "   Python automatically converts one data type to another when needed. Eg :\n",
        "\n",
        "\n",
        "   x = 5      # int\n",
        "\n",
        "   y  =  2.0     # float\n",
        "\n",
        "z = x + y  # int + float → float\n",
        "\n",
        "  print(z)   # 7.0\n",
        "\n",
        "  print(type(z))  # <class 'float'>  \n",
        "\n",
        "  - Explicit Type Casting (Manual)\n",
        "\n",
        "    Manually convert a variable from one type to another using built-in functions. Eg :\n",
        "\n",
        "    # Convert float to int\n",
        "a = 5.8\n",
        "b = int(a)\n",
        "print(b)  # 5\n",
        "\n",
        " #  Convert string to int\n",
        "s = \"123\"\n",
        "num = int(s)\n",
        "print(num + 1)  # 124\n",
        "\n",
        " #  Convert int to string\n",
        "age = 20\n",
        "\n",
        " print(\"Age is \" + str(age))  # \"Age is 20\"\n",
        "\n",
        "\n",
        "11.  What is the purpose of conditional statements in Python ?\n",
        "\n",
        "     -> Conditional statements in Python are used to make decisions in your program based on certain conditions.They allow your code to branch—meaning, different blocks of code run depending on whether a condition is True or False.\n",
        "\n",
        "\n",
        "\n",
        "12.  How does the elif statement work ?\n",
        "\n",
        "     -> The elif (short for else if) statement is used to check multiple conditions, one after another, after an initial if.It allows you to add additional logic branches between if and else.\n",
        "     \n",
        "     -Python checks the if condition first.\n",
        "\n",
        "     -If if is False, it moves to the first elif and checks that.\n",
        "\n",
        "     -If any elif is True, that block runs and the rest are skipped.\n",
        "\n",
        "     -If none of the conditions are True, the else block (if present) runs.\n",
        "\n",
        "\n",
        "13.  What is the difference between for and while loops ?\n",
        "\n",
        "     -> For and While loops are used for repeating tasks, but they work in different ways and are used for different purposes.\n",
        "\n",
        "     For Loop - Loops over a sequence : used when you know in advance how many times you want to repeat something.Iterates over items like a list, tuple, string, or a range of numbers.\n",
        "\n",
        "  While Loop - Loops while a condition is True : used when you don't know how many times the loop should run.Keeps looping as long as the condition is True.\n",
        "\n",
        "14.  Describe a scenario where a while loop is more suitable than a for loop.\n",
        "\n",
        "     -> Suppose you want to allow a user to enter a password, but only until they get it right or use up 3 tries.Since you don't know exactly when the correct password will be entered, but you want to loop until a condition is met, a while loop is the best choice.\n",
        "\n",
        "\n",
        "\n",
        "    \n",
        "\n",
        "\n",
        "\n",
        "\n",
        "\n",
        "\n",
        "\n",
        "   \n",
        "\n",
        "  "
      ],
      "metadata": {
        "id": "qJUWS2G3Pa8p"
      }
    },
    {
      "cell_type": "code",
      "source": [
        "# Practical Questions"
      ],
      "metadata": {
        "id": "ROIInHeEpEuQ"
      },
      "execution_count": null,
      "outputs": []
    },
    {
      "cell_type": "markdown",
      "source": [
        "1.  Write a Python program to print \"Hello, World!\""
      ],
      "metadata": {
        "id": "IxojWsoCqgP1"
      }
    },
    {
      "cell_type": "code",
      "source": [
        "print(\"Hello, World!\")"
      ],
      "metadata": {
        "colab": {
          "base_uri": "https://localhost:8080/"
        },
        "id": "HG_3QP_NqsEr",
        "outputId": "c2f58e72-337f-4dbc-cef3-ad94351773f1"
      },
      "execution_count": null,
      "outputs": [
        {
          "output_type": "stream",
          "name": "stdout",
          "text": [
            "Hello, World!\n"
          ]
        }
      ]
    },
    {
      "cell_type": "markdown",
      "source": [
        "2.  Write a Python program that displays your name and age."
      ],
      "metadata": {
        "id": "8UgtCJvXrqoA"
      }
    },
    {
      "cell_type": "code",
      "source": [
        "print(\"My name is\",\"Diyya Jacob\")\n",
        "print(\"My age is\",23)"
      ],
      "metadata": {
        "colab": {
          "base_uri": "https://localhost:8080/"
        },
        "id": "PmbTF7n6sSiK",
        "outputId": "5bf39853-7cc9-483a-8e00-d06554606f48"
      },
      "execution_count": null,
      "outputs": [
        {
          "output_type": "stream",
          "name": "stdout",
          "text": [
            "My name is Diyya Jacob\n",
            "My age is 23\n"
          ]
        }
      ]
    },
    {
      "cell_type": "markdown",
      "source": [
        "3.  Write code to print all the pre-defined keywords in Python using the keyword library."
      ],
      "metadata": {
        "id": "Qna1q1D_vFNX"
      }
    },
    {
      "cell_type": "code",
      "source": [
        "print(\"python keywords:\")\n",
        "print(kwlist)"
      ],
      "metadata": {
        "colab": {
          "base_uri": "https://localhost:8080/"
        },
        "id": "yim3xRjWtcCI",
        "outputId": "2b1522a7-05db-48dc-c3d3-5e573197554f"
      },
      "execution_count": null,
      "outputs": [
        {
          "output_type": "stream",
          "name": "stdout",
          "text": [
            "python keywords:\n",
            "['False', 'None', 'True', 'and', 'as', 'assert', 'async', 'await', 'break', 'class', 'continue', 'def', 'del', 'elif', 'else', 'except', 'finally', 'for', 'from', 'global', 'if', 'import', 'in', 'is', 'lambda', 'nonlocal', 'not', 'or', 'pass', 'raise', 'return', 'try', 'while', 'with', 'yield']\n"
          ]
        }
      ]
    },
    {
      "cell_type": "markdown",
      "source": [
        "4.  Write a program that checks if a given word is a Python keyword."
      ],
      "metadata": {
        "id": "KufZ4QC2xf4h"
      }
    },
    {
      "cell_type": "code",
      "source": [
        "from keyword import kwlist\n",
        "\n",
        "word = input(\"Enter a word to check:\")\n",
        "if word in kwlist:\n",
        "    print(f\"'{word}'is a python keyword\")\n",
        "else:\n",
        "    print(f\"'{word}'is not a python keyword\")"
      ],
      "metadata": {
        "id": "GkgJqmvKwPVs",
        "colab": {
          "base_uri": "https://localhost:8080/"
        },
        "outputId": "b43fe6f1-59c6-4567-89ed-6a7ee5c0646a"
      },
      "execution_count": 11,
      "outputs": [
        {
          "output_type": "stream",
          "name": "stdout",
          "text": [
            "Enter a word to check:hello\n",
            "'hello'is not a python keyword\n"
          ]
        }
      ]
    },
    {
      "cell_type": "markdown",
      "source": [
        "5.  Create a list and tuple in Python, and demonstrate how attempting to change an element works differently\n",
        "for each."
      ],
      "metadata": {
        "id": "XZLwadKacqqj"
      }
    },
    {
      "cell_type": "code",
      "source": [
        "my_list = [10,11,12,13,14]\n",
        "my_tuple = (10,11,12,13,14)\n",
        "\n",
        "print(\"Original list:\",my_list)\n",
        "my_list[1]=99\n",
        "print(\"Modified list:\",my_list)\n",
        "\n",
        "print(\"Original tuple:\",my_tuple)\n",
        "# The following line attempts to modify the tuple and causes the error\n",
        "# my_tuple[1]=99 # This line is commented out because tuples are immutable\n",
        "print(\"Modified tuple:\",my_tuple)"
      ],
      "metadata": {
        "id": "ngKc1aYSYrEs",
        "colab": {
          "base_uri": "https://localhost:8080/"
        },
        "outputId": "79078335-baa8-4d7f-832e-7590d99097ae"
      },
      "execution_count": 13,
      "outputs": [
        {
          "output_type": "stream",
          "name": "stdout",
          "text": [
            "Original list: [10, 11, 12, 13, 14]\n",
            "Modified list: [10, 99, 12, 13, 14]\n",
            "Original tuple: (10, 11, 12, 13, 14)\n",
            "Modified tuple: (10, 11, 12, 13, 14)\n"
          ]
        }
      ]
    },
    {
      "cell_type": "markdown",
      "source": [
        "6.  Write a function to demonstrate the behavior of mutable and immutable arguments."
      ],
      "metadata": {
        "id": "PyUA8Qx8gFze"
      }
    },
    {
      "cell_type": "code",
      "source": [
        "def modify_arguments(a,b):\n",
        "\n",
        "  print(\"inside function before modification:\")\n",
        "  print(\"a(immatuable):\",a)\n",
        "  print(\"b(mutable):\",b)\n",
        "\n",
        "  a+=10\n",
        "  b.append(100)\n",
        "\n",
        "  print(\"inside function after modification:\")\n",
        "  print(\"a(immatuable):\",a)\n",
        "  print(\"b(mutable):\",b)\n",
        "\n",
        "  x=7\n",
        "  y=[10,20,30]\n",
        "\n",
        "  modify_arguments(x,y)\n",
        "\n",
        "  print(\"outside function after function call:\")\n",
        "  print(\"x(immatuable):\",x)\n",
        "  print(\"y(mutable):\",y)\n",
        "\n"
      ],
      "metadata": {
        "id": "mUOdGW9uehuG"
      },
      "execution_count": 36,
      "outputs": []
    },
    {
      "cell_type": "markdown",
      "source": [
        "7.  Write a program that performs basic arithmetic operations on two user-input numbers.\n"
      ],
      "metadata": {
        "id": "Mro44Jojkjht"
      }
    },
    {
      "cell_type": "code",
      "source": [
        "# Get input from the user\n",
        "num1 = float(input(\"Enter the first number: \"))\n",
        "num2 = float(input(\"Enter the second number: \"))\n",
        "\n",
        "# Perform arithmetic operations\n",
        "print(\"Results of basic arithmetic operations:\")\n",
        "print(f\"Addition: {num1} + {num2} = {num1 + num2}\")\n",
        "print(f\"Subtraction: {num1} - {num2} = {num1 - num2}\")\n",
        "print(f\"Multiplication: {num1} * {num2} = {num1 * num2}\")\n",
        "\n",
        "# Division with error check\n",
        "if num2 != 0:\n",
        "    print(f\"Division: {num1} / {num2} = {num1 / num2}\")\n",
        "    print(f\"Modulus: {num1} % {num2} = {num1 % num2}\")\n",
        "else:\n",
        "    print(\"Division and modulus not possible (division by zero).\")\n"
      ],
      "metadata": {
        "colab": {
          "base_uri": "https://localhost:8080/"
        },
        "id": "WwKnuTY-khPg",
        "outputId": "986e17e9-35e2-44f8-e61a-6c3ef0a46d25"
      },
      "execution_count": 19,
      "outputs": [
        {
          "output_type": "stream",
          "name": "stdout",
          "text": [
            "Enter the first number: 20\n",
            "Enter the second number: 17\n",
            "\n",
            "Results of basic arithmetic operations:\n",
            "Addition: 20.0 + 17.0 = 37.0\n",
            "Subtraction: 20.0 - 17.0 = 3.0\n",
            "Multiplication: 20.0 * 17.0 = 340.0\n",
            "Division: 20.0 / 17.0 = 1.1764705882352942\n",
            "Modulus: 20.0 % 17.0 = 3.0\n"
          ]
        }
      ]
    },
    {
      "cell_type": "markdown",
      "source": [
        "8.  Write a program to demonstrate the use of logical operators."
      ],
      "metadata": {
        "id": "H9Bq3gv-lu78"
      }
    },
    {
      "cell_type": "code",
      "source": [
        "# Take two boolean inputs from the user\n",
        "a = input(\"Enter first value (True/False): \")\n",
        "b = input(\"Enter second value (True/False): \")\n",
        "\n",
        "# Convert string input to boolean\n",
        "a = a.strip().lower() == \"true\"\n",
        "b = b.strip().lower() == \"true\"\n",
        "\n",
        "# Demonstrate logical operators\n",
        "print(\"Logical Operator Results:\")\n",
        "print(f\"a AND b: {a and b}\")\n",
        "print(f\"a OR b: {a or b}\")\n",
        "print(f\"NOT a: {not a}\")\n",
        "print(f\"NOT b: {not b}\")\n"
      ],
      "metadata": {
        "colab": {
          "base_uri": "https://localhost:8080/"
        },
        "id": "oj-wraTylJBi",
        "outputId": "2d92255b-4178-4744-ca58-b8cd05c24a14"
      },
      "execution_count": 22,
      "outputs": [
        {
          "output_type": "stream",
          "name": "stdout",
          "text": [
            "Enter first value (True/False): true\n",
            "Enter second value (True/False): false\n",
            "\n",
            "Logical Operator Results:\n",
            "a AND b: False\n",
            "a OR b: True\n",
            "NOT a: False\n",
            "NOT b: True\n"
          ]
        }
      ]
    },
    {
      "cell_type": "markdown",
      "source": [
        "9.  Write a Python program to convert user input from string to integer, float, and boolean types."
      ],
      "metadata": {
        "id": "aWD8UmydmwqX"
      }
    },
    {
      "cell_type": "code",
      "source": [
        "\n",
        "user_input = input(\"Enter a value: \")\n",
        "\n",
        "# Convert to integer\n",
        "try:\n",
        "    int_value = int(user_input)\n",
        "    print(f\"Integer conversion: {int_value}\")\n",
        "except ValueError:\n",
        "    print(\"Cannot convert to integer.\")\n",
        "\n",
        "# Convert to float\n",
        "try:\n",
        "    float_value = float(user_input)\n",
        "    print(f\"Float conversion: {float_value}\")\n",
        "except ValueError:\n",
        "    print(\"Cannot convert to float.\")\n",
        "\n",
        "# Convert to boolean\n",
        "bool_value = bool(user_input.strip())\n",
        "print(f\"Boolean conversion: {bool_value}\")\n"
      ],
      "metadata": {
        "colab": {
          "base_uri": "https://localhost:8080/"
        },
        "id": "AvdPPoxemZzq",
        "outputId": "62e97b23-8c77-472d-811e-9821a4ae7efc"
      },
      "execution_count": 23,
      "outputs": [
        {
          "output_type": "stream",
          "name": "stdout",
          "text": [
            "Enter a value: 75\n",
            "Integer conversion: 75\n",
            "Float conversion: 75.0\n",
            "Boolean conversion: True\n"
          ]
        }
      ]
    },
    {
      "cell_type": "markdown",
      "source": [
        "10.  Write code to demonstrate type casting with list elements."
      ],
      "metadata": {
        "id": "XtDTBvkdn5-4"
      }
    },
    {
      "cell_type": "code",
      "source": [
        "str_list = [\"2\", \"4\", \"6\", \"8\"]\n",
        "\n",
        "print(\"Original list (strings):\", str_list)\n",
        "\n",
        "# Convert all elements to integers\n",
        "int_list = [int(x) for x in str_list]\n",
        "print(\"List after casting to integers:\", int_list)\n",
        "\n",
        "# Convert all elements to floats\n",
        "float_list = [float(x) for x in str_list]\n",
        "print(\"List after casting to floats:\", float_list)\n",
        "\n",
        "# Convert all elements to booleans\n",
        "bool_list = [bool(x) for x in str_list]\n",
        "print(\"List after casting to booleans:\", bool_list)\n"
      ],
      "metadata": {
        "colab": {
          "base_uri": "https://localhost:8080/"
        },
        "id": "ctl2323JngKv",
        "outputId": "9679a924-87af-40ec-c799-615c303ed940"
      },
      "execution_count": 25,
      "outputs": [
        {
          "output_type": "stream",
          "name": "stdout",
          "text": [
            "Original list (strings): ['2', '4', '6', '8']\n",
            "List after casting to integers: [2, 4, 6, 8]\n",
            "List after casting to floats: [2.0, 4.0, 6.0, 8.0]\n",
            "List after casting to booleans: [True, True, True, True]\n"
          ]
        }
      ]
    },
    {
      "cell_type": "markdown",
      "source": [
        "11.  Write a program that checks if a number is positive, negative, or zero."
      ],
      "metadata": {
        "id": "Vh9uSW8Eokox"
      }
    },
    {
      "cell_type": "code",
      "source": [
        "num = float(input(\"Enter a number:\"))\n",
        "\n",
        "# Check if the number is positive, negative, or zero\n",
        "if num > 0:\n",
        "    print(\"The number is positive.\")\n",
        "elif num < 0:\n",
        "    print(\"The number is negative.\")\n",
        "else:\n",
        "    print(\"The number is zero.\")\n"
      ],
      "metadata": {
        "colab": {
          "base_uri": "https://localhost:8080/"
        },
        "collapsed": true,
        "id": "_zoEkZNfoT99",
        "outputId": "f55d2229-fc00-4ef5-9ff0-169e7e8b9e7d"
      },
      "execution_count": 31,
      "outputs": [
        {
          "output_type": "stream",
          "name": "stdout",
          "text": [
            "Enter a number:-5\n",
            "The number is negative.\n"
          ]
        }
      ]
    },
    {
      "cell_type": "markdown",
      "source": [
        "12.  Write a for loop to print numbers from 1 to 10."
      ],
      "metadata": {
        "id": "RgqOXX0GpnJJ"
      }
    },
    {
      "cell_type": "code",
      "source": [
        "# Using a for loop to print numbers from 1 to 10\n",
        "for i in range(1, 59):\n",
        "    print(i)\n"
      ],
      "metadata": {
        "colab": {
          "base_uri": "https://localhost:8080/"
        },
        "id": "hBjU_mQKo-qT",
        "outputId": "20cd96a7-c56e-4526-cc4e-4ee7b67a21ac"
      },
      "execution_count": 32,
      "outputs": [
        {
          "output_type": "stream",
          "name": "stdout",
          "text": [
            "1\n",
            "2\n",
            "3\n",
            "4\n",
            "5\n",
            "6\n",
            "7\n",
            "8\n",
            "9\n",
            "10\n",
            "11\n",
            "12\n",
            "13\n",
            "14\n",
            "15\n",
            "16\n",
            "17\n",
            "18\n",
            "19\n",
            "20\n",
            "21\n",
            "22\n",
            "23\n",
            "24\n",
            "25\n",
            "26\n",
            "27\n",
            "28\n",
            "29\n",
            "30\n",
            "31\n",
            "32\n",
            "33\n",
            "34\n",
            "35\n",
            "36\n",
            "37\n",
            "38\n",
            "39\n",
            "40\n",
            "41\n",
            "42\n",
            "43\n",
            "44\n",
            "45\n",
            "46\n",
            "47\n",
            "48\n",
            "49\n",
            "50\n",
            "51\n",
            "52\n",
            "53\n",
            "54\n",
            "55\n",
            "56\n",
            "57\n",
            "58\n"
          ]
        }
      ]
    },
    {
      "cell_type": "markdown",
      "source": [
        "13. . Write a Python program to find the sum of all even numbers between 1 and 50.\n"
      ],
      "metadata": {
        "id": "hXTqEb_bqarj"
      }
    },
    {
      "cell_type": "code",
      "source": [
        "# Initialize sum\n",
        "even_sum = 0\n",
        "\n",
        "# Loop through numbers from 1 to 50\n",
        "for i in range(1, 45):\n",
        "    if i % 2 == 0:\n",
        "        even_sum += i\n",
        "\n",
        "print(\"Sum of all even numbers from 1 to 50 is:\", even_sum)\n"
      ],
      "metadata": {
        "colab": {
          "base_uri": "https://localhost:8080/"
        },
        "id": "JBpFZ3-gqROS",
        "outputId": "4caaec73-4bef-4766-87fb-b941c8787aec"
      },
      "execution_count": 33,
      "outputs": [
        {
          "output_type": "stream",
          "name": "stdout",
          "text": [
            "Sum of all even numbers from 1 to 50 is: 506\n"
          ]
        }
      ]
    },
    {
      "cell_type": "markdown",
      "source": [
        "14.  Write a program to reverse a string using a while loop."
      ],
      "metadata": {
        "id": "y_5b1SZ_q-9_"
      }
    },
    {
      "cell_type": "code",
      "source": [
        "text = input(\"Enter a string:\")\n",
        "\n",
        "# Initialize variables\n",
        "reversed_text = \"\"\n",
        "index = len(text) - 1\n",
        "\n",
        "# Reverse using while loop\n",
        "while index >= 0:\n",
        "    reversed_text += text[index]\n",
        "    index -= 1\n",
        "\n",
        "print(\"Reversed string:\", reversed_text)\n"
      ],
      "metadata": {
        "colab": {
          "base_uri": "https://localhost:8080/"
        },
        "id": "QAaNxGbwq3kv",
        "outputId": "818aaefe-9aa2-4835-9153-79fbda47b2f3"
      },
      "execution_count": 34,
      "outputs": [
        {
          "output_type": "stream",
          "name": "stdout",
          "text": [
            "Enter a string: data\n",
            "Reversed string: atad\n"
          ]
        }
      ]
    },
    {
      "cell_type": "markdown",
      "source": [
        "15.  Write a Python program to calculate the factorial of a number provided by the user using a while loop."
      ],
      "metadata": {
        "id": "0DTEyuRVrnsb"
      }
    },
    {
      "cell_type": "code",
      "source": [
        "num = int(input(\"Enter a non-negative integer:\"))\n",
        "\n",
        "if num < 0:\n",
        "    print(\"Factorial is not defined for negative numbers.\")\n",
        "else:\n",
        "    factorial = 1\n",
        "    n = num\n",
        "\n",
        "    # Calculate factorial using while loop\n",
        "    while n > 0:\n",
        "        factorial *= n\n",
        "        n -= 1\n",
        "\n",
        "    print(f\"The factorial of {num} is {factorial}\")\n"
      ],
      "metadata": {
        "colab": {
          "base_uri": "https://localhost:8080/"
        },
        "id": "h1x6CZmgra__",
        "outputId": "b78c6d55-dbd9-4314-f439-bbf6f532b896"
      },
      "execution_count": 35,
      "outputs": [
        {
          "output_type": "stream",
          "name": "stdout",
          "text": [
            "Enter a non-negative integer:16\n",
            "The factorial of 16 is 20922789888000\n"
          ]
        }
      ]
    },
    {
      "cell_type": "code",
      "source": [],
      "metadata": {
        "id": "6V2VotJCs9Dl"
      },
      "execution_count": null,
      "outputs": []
    }
  ]
}